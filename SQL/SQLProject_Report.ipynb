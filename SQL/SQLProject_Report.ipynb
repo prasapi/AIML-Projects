{
 "cells": [
  {
   "cell_type": "markdown",
   "id": "bdd0befe-4572-4045-85b7-5d1daffc7640",
   "metadata": {},
   "source": [
    "### Import libraries"
   ]
  },
  {
   "cell_type": "code",
   "execution_count": 61,
   "id": "b9abbc7e-9f2b-401f-ae22-7d60e17dee34",
   "metadata": {},
   "outputs": [],
   "source": [
    "# To help with reading and manipulating data\n",
    "import pandas as pd\n",
    "import numpy as np\n",
    "\n",
    "# To help with data visualization\n",
    "%matplotlib inline\n",
    "import matplotlib.pyplot as plt\n",
    "import seaborn as sns\n",
    "import matplotlib.patches as mpatches\n",
    "\n",
    "# To define maximum number of columns to be displayed in a dataframe\n",
    "pd.set_option(\"display.max_columns\", None)\n",
    "\n",
    "# To supress scientific notations for a dataframe\n",
    "pd.set_option(\"display.float_format\", lambda x: \"%.3f\" % x)\n",
    "\n",
    "# set the background for the graphs\n",
    "plt.style.use(\"ggplot\")\n",
    "\n",
    "# To supress warnings\n",
    "import warnings\n",
    "\n",
    "# date time\n",
    "from datetime import datetime\n",
    "\n",
    "warnings.filterwarnings(\"ignore\")"
   ]
  },
  {
   "cell_type": "markdown",
   "id": "cdcf540d-0e62-4466-90d8-3c15f630b5b0",
   "metadata": {},
   "source": [
    "### Customer Metrics"
   ]
  },
  {
   "cell_type": "markdown",
   "id": "a01be10b-91f4-44c2-826b-1c284e82ec0b",
   "metadata": {},
   "source": [
    "#### Q1:Distribution of Customers across States"
   ]
  },
  {
   "cell_type": "code",
   "execution_count": 14,
   "id": "7f064af6-1f85-4660-8579-c2e30197008d",
   "metadata": {},
   "outputs": [],
   "source": [
    "custdata= pd.read_csv(r\"C:\\Users\\prasa\\OneDrive\\Desktop\\GreatLearning\\SQL\\Project\\new+wheels_proj\\Data\\Q1data.csv\")\n",
    "custdata=custdata.sort_values(by='CustomerCount',ascending=False)\n",
    "gdata=custdata.head()"
   ]
  },
  {
   "cell_type": "markdown",
   "id": "2bdaa7a7-25bc-462f-826b-a5d84e0cf8ca",
   "metadata": {},
   "source": [
    "#### Graph Description: A bar chart to show the top 5 states with most customers. State in the\n",
    "#### x-axis and Customer Count as the y-axis"
   ]
  },
  {
   "cell_type": "code",
   "execution_count": 49,
   "id": "285fca06-79be-497e-8f7b-773c020d8c9f",
   "metadata": {},
   "outputs": [
    {
     "data": {
      "image/png": "[encoded data removed]",
      "text/plain": [
       "<Figure size 640x480 with 1 Axes>"
      ]
     },
     "metadata": {},
     "output_type": "display_data"
    }
   ],
   "source": [
    "plt.xticks(rotation=20)\n",
    "#sns.palplot(current_palette)\n",
    "current_palette = sns.color_palette(\"terrain_r\")\n",
    "sns.barplot(x=gdata['state'],y=gdata['CustomerCount'],data=gdata,palette = current_palette)\n",
    "plt.show()"
   ]
  },
  {
   "cell_type": "markdown",
   "id": "52ab2274-94dd-4323-b417-b19bca45dd4b",
   "metadata": {},
   "source": [
    "#### Obervations:\n",
    "#### 1.Two states, California and Texas have high customer count of 97\n",
    "#### 2.The 4th top state:New York and 5th top state District of Columbia has a big gap of 34"
   ]
  },
  {
   "cell_type": "markdown",
   "id": "44817b5f-a7eb-49a8-9d8a-7ae7e3444fb7",
   "metadata": {},
   "source": [
    "### Q2:Average Customer Ratings by Quarter"
   ]
  },
  {
   "cell_type": "markdown",
   "id": "a827e356-732f-4c96-b4ae-b1108aaf65c2",
   "metadata": {},
   "source": [
    "Graph Description: bar chart with Quarter Number on the x-axis and the average\r\n",
    "customer rating in the y-axis"
   ]
  },
  {
   "cell_type": "code",
   "execution_count": 41,
   "id": "07b43687-f91d-48f2-a154-f29f771411e7",
   "metadata": {},
   "outputs": [
    {
     "data": {
      "text/html": [
       "<div>\n",
       "<style scoped>\n",
       "    .dataframe tbody tr th:only-of-type {\n",
       "        vertical-align: middle;\n",
       "    }\n",
       "\n",
       "    .dataframe tbody tr th {\n",
       "        vertical-align: top;\n",
       "    }\n",
       "\n",
       "    .dataframe thead th {\n",
       "        text-align: right;\n",
       "    }\n",
       "</style>\n",
       "<table border=\"1\" class=\"dataframe\">\n",
       "  <thead>\n",
       "    <tr style=\"text-align: right;\">\n",
       "      <th></th>\n",
       "      <th>quarter_number</th>\n",
       "      <th>AvgCustRating</th>\n",
       "    </tr>\n",
       "  </thead>\n",
       "  <tbody>\n",
       "    <tr>\n",
       "      <th>0</th>\n",
       "      <td>1</td>\n",
       "      <td>3.555</td>\n",
       "    </tr>\n",
       "    <tr>\n",
       "      <th>1</th>\n",
       "      <td>2</td>\n",
       "      <td>3.355</td>\n",
       "    </tr>\n",
       "    <tr>\n",
       "      <th>2</th>\n",
       "      <td>3</td>\n",
       "      <td>2.956</td>\n",
       "    </tr>\n",
       "    <tr>\n",
       "      <th>3</th>\n",
       "      <td>4</td>\n",
       "      <td>2.397</td>\n",
       "    </tr>\n",
       "  </tbody>\n",
       "</table>\n",
       "</div>"
      ],
      "text/plain": [
       "   quarter_number  AvgCustRating\n",
       "0               1          3.555\n",
       "1               2          3.355\n",
       "2               3          2.956\n",
       "3               4          2.397"
      ]
     },
     "execution_count": 41,
     "metadata": {},
     "output_type": "execute_result"
    }
   ],
   "source": [
    "q2data= pd.read_csv(r\"C:\\Users\\prasa\\OneDrive\\Desktop\\GreatLearning\\SQL\\Project\\new+wheels_proj\\Data\\Q2data.csv\")\n",
    "q2data.head()"
   ]
  },
  {
   "cell_type": "code",
   "execution_count": 108,
   "id": "6b26fadb-d883-440e-b2c2-1bc20bc1dae8",
   "metadata": {},
   "outputs": [
    {
     "data": {
      "image/png": "[encoded data removed]",
      "text/plain": [
       "<Figure size 640x480 with 1 Axes>"
      ]
     },
     "metadata": {},
     "output_type": "display_data"
    }
   ],
   "source": [
    "\n",
    "current_palette = sns.color_palette(\"terrain_r\")\n",
    "sns.barplot(x=q2data['quarter_number'],y=q2data['AvgCustRating'],data=q2data,palette = current_palette)\n",
    "plt.show()"
   ]
  },
  {
   "cell_type": "markdown",
   "id": "c841a351-6b3f-46bd-a826-64717f6d6be9",
   "metadata": {},
   "source": [
    "#### Obervations:\n",
    "#### 1.The average customer rating for Q1 and Q2 is very close.\n",
    "#### 2.The average customer rating is declining over the subsequent quarters which means customers are unhappy and it is alarming."
   ]
  },
  {
   "cell_type": "markdown",
   "id": "32976051-0ae8-4006-903b-aa21297f8b2d",
   "metadata": {},
   "source": [
    "### Q3:Trend of Customer Satisfaction"
   ]
  },
  {
   "cell_type": "markdown",
   "id": "d0c5fde4-6860-4838-9a72-a748c8c76886",
   "metadata": {},
   "source": [
    "Graph description: 100% Stacked bar chart with Quarter Number on the x-axis and\r\n",
    "percentage split of customer feedback [good, very good, bad, very bad, okay] in the y-axis\r\n",
    "with a colour legend"
   ]
  },
  {
   "cell_type": "code",
   "execution_count": 107,
   "id": "a0cd11a6-d18e-4403-90e0-ea0755e0ad61",
   "metadata": {},
   "outputs": [
    {
     "data": {
      "text/html": [
       "<div>\n",
       "<style scoped>\n",
       "    .dataframe tbody tr th:only-of-type {\n",
       "        vertical-align: middle;\n",
       "    }\n",
       "\n",
       "    .dataframe tbody tr th {\n",
       "        vertical-align: top;\n",
       "    }\n",
       "\n",
       "    .dataframe thead th {\n",
       "        text-align: right;\n",
       "    }\n",
       "</style>\n",
       "<table border=\"1\" class=\"dataframe\">\n",
       "  <thead>\n",
       "    <tr style=\"text-align: right;\">\n",
       "      <th></th>\n",
       "      <th>Very Bad</th>\n",
       "      <th>Bad</th>\n",
       "      <th>Okay</th>\n",
       "      <th>Good</th>\n",
       "      <th>Very Good</th>\n",
       "    </tr>\n",
       "  </thead>\n",
       "  <tbody>\n",
       "    <tr>\n",
       "      <th>1</th>\n",
       "      <td>NaN</td>\n",
       "      <td>6.352</td>\n",
       "      <td>NaN</td>\n",
       "      <td>NaN</td>\n",
       "      <td>NaN</td>\n",
       "    </tr>\n",
       "    <tr>\n",
       "      <th>2</th>\n",
       "      <td>NaN</td>\n",
       "      <td>NaN</td>\n",
       "      <td>16.062</td>\n",
       "      <td>NaN</td>\n",
       "      <td>NaN</td>\n",
       "    </tr>\n",
       "    <tr>\n",
       "      <th>3</th>\n",
       "      <td>NaN</td>\n",
       "      <td>NaN</td>\n",
       "      <td>NaN</td>\n",
       "      <td>32.305</td>\n",
       "      <td>NaN</td>\n",
       "    </tr>\n",
       "    <tr>\n",
       "      <th>4</th>\n",
       "      <td>NaN</td>\n",
       "      <td>NaN</td>\n",
       "      <td>NaN</td>\n",
       "      <td>NaN</td>\n",
       "      <td>42.196</td>\n",
       "    </tr>\n",
       "  </tbody>\n",
       "</table>\n",
       "</div>"
      ],
      "text/plain": [
       "   Very Bad   Bad   Okay   Good  Very Good\n",
       "1       NaN 6.352    NaN    NaN        NaN\n",
       "2       NaN   NaN 16.062    NaN        NaN\n",
       "3       NaN   NaN    NaN 32.305        NaN\n",
       "4       NaN   NaN    NaN    NaN     42.196"
      ]
     },
     "execution_count": 107,
     "metadata": {},
     "output_type": "execute_result"
    }
   ],
   "source": [
    "q3data= pd.read_csv(r\"C:\\Users\\prasa\\OneDrive\\Desktop\\GreatLearning\\SQL\\Project\\new+wheels_proj\\Data\\Q3data.csv\")\n",
    "#q3data.head()\n",
    "q3data[q3data['customerfeedback']=='Bad']\n",
    "#q3data['quarter_number']\n",
    "gdata= pd.DataFrame({'Very Bad':q3data[q3data['customerfeedback']=='Very Bad']['feedback%'],\n",
    "                     'Bad':q3data[q3data['customerfeedback']=='Bad']['feedback%'],\n",
    "                     'Okay':q3data[q3data['customerfeedback']=='Okay']['feedback%'],\n",
    "                     'Good':q3data[q3data['customerfeedback']=='Good']['feedback%'],\n",
    "                     'Very Good':q3data[q3data['customerfeedback']=='Very Good']['feedback%']\n",
    "                    } ,index=q3data['quarter_number'].unique())\n",
    "\n"
   ]
  },
  {
   "cell_type": "code",
   "execution_count": 109,
   "id": "dae93509-bb93-4b3a-a006-12f26d8736f1",
   "metadata": {},
   "outputs": [
    {
     "data": {
      "image/png": "[encoded data removed]",
      "text/plain": [
       "<Figure size 640x480 with 1 Axes>"
      ]
     },
     "metadata": {},
     "output_type": "display_data"
    }
   ],
   "source": [
    "current_palette = sns.color_palette(\"terrain_r\")\n",
    "#q3data.plot(kind='bar',stacked=True)\n",
    "#index=q3data['quarter_nnumber']\n",
    "index=q3data['quarter_number'].unique()\n",
    "bar1 = sns.barplot(x=index,  y=\"feedback%\", data=q3data[q3data['customerfeedback']=='Very Bad'], estimator=sum, color='darkblue')\n",
    "bar2 = sns.barplot(x=index,  y=\"feedback%\", data=q3data[q3data['customerfeedback']=='Bad'], estimator=sum, ci=None, color='lightblue')\n",
    "bar3 = sns.barplot(x=index,  y=\"feedback%\", data=q3data[q3data['customerfeedback']=='Okay'], estimator=sum, ci=None, color='blue')\n",
    "bar4 = sns.barplot(x=index,  y=\"feedback%\", data=q3data[q3data['customerfeedback']=='Good'], estimator=sum, ci=None, color='green')\n",
    "bar5 = sns.barplot(x=index,  y=\"feedback%\", data=q3data[q3data['customerfeedback']=='Very Good'], estimator=sum, ci=None, color='lightgreen')\n",
    "# add legend\n",
    "b1 = mpatches.Patch(color='darkblue', label='Very Bad')\n",
    "b2 = mpatches.Patch(color='lightblue', label='Bad')\n",
    "b3 = mpatches.Patch(color='blue', label='Okay')\n",
    "b4 = mpatches.Patch(color='green', label='Good')\n",
    "b5 = mpatches.Patch(color='lightgreen', label='Very Good')\n",
    "\n",
    "plt.legend(handles=[b1, b2,b3,b4,b5])\n",
    "# labels for x & y axis\n",
    "#plt.xlabel('quarter_number')\n",
    "#plt.ylabel('feedback%')\n",
    "\n",
    "\n",
    "plt.show()"
   ]
  },
  {
   "cell_type": "markdown",
   "id": "13398879-ca03-484f-a761-7c1e2626e028",
   "metadata": {},
   "source": [
    "### Q4: Top Vehicle makers preferred by customers\n",
    "Graph /Table description :a bar chart with top N vehicle makers on the x-axis and the number of\r\n",
    "customers in the y-axise"
   ]
  },
  {
   "cell_type": "code",
   "execution_count": 112,
   "id": "4b88def0-2595-4f01-8c0e-e5d53ab00d44",
   "metadata": {},
   "outputs": [
    {
     "data": {
      "text/html": [
       "<div>\n",
       "<style scoped>\n",
       "    .dataframe tbody tr th:only-of-type {\n",
       "        vertical-align: middle;\n",
       "    }\n",
       "\n",
       "    .dataframe tbody tr th {\n",
       "        vertical-align: top;\n",
       "    }\n",
       "\n",
       "    .dataframe thead th {\n",
       "        text-align: right;\n",
       "    }\n",
       "</style>\n",
       "<table border=\"1\" class=\"dataframe\">\n",
       "  <thead>\n",
       "    <tr style=\"text-align: right;\">\n",
       "      <th></th>\n",
       "      <th>vehicle_maker</th>\n",
       "      <th>customercnt</th>\n",
       "    </tr>\n",
       "  </thead>\n",
       "  <tbody>\n",
       "    <tr>\n",
       "      <th>0</th>\n",
       "      <td>Chevrolet</td>\n",
       "      <td>83</td>\n",
       "    </tr>\n",
       "    <tr>\n",
       "      <th>1</th>\n",
       "      <td>Ford</td>\n",
       "      <td>63</td>\n",
       "    </tr>\n",
       "    <tr>\n",
       "      <th>2</th>\n",
       "      <td>Toyota</td>\n",
       "      <td>52</td>\n",
       "    </tr>\n",
       "    <tr>\n",
       "      <th>3</th>\n",
       "      <td>Pontiac</td>\n",
       "      <td>50</td>\n",
       "    </tr>\n",
       "    <tr>\n",
       "      <th>4</th>\n",
       "      <td>Dodge</td>\n",
       "      <td>50</td>\n",
       "    </tr>\n",
       "  </tbody>\n",
       "</table>\n",
       "</div>"
      ],
      "text/plain": [
       "  vehicle_maker  customercnt\n",
       "0     Chevrolet           83\n",
       "1          Ford           63\n",
       "2        Toyota           52\n",
       "3       Pontiac           50\n",
       "4         Dodge           50"
      ]
     },
     "execution_count": 112,
     "metadata": {},
     "output_type": "execute_result"
    }
   ],
   "source": [
    "q4data= pd.read_csv(r\"C:\\Users\\prasa\\OneDrive\\Desktop\\GreatLearning\\SQL\\Project\\new+wheels_proj\\Data\\Q4data.csv\")\n",
    "q4data=q4data.sort_values(by='customercnt',ascending=False)\n",
    "q4data.head()"
   ]
  },
  {
   "cell_type": "code",
   "execution_count": 114,
   "id": "9e0f85d1-2eff-4670-83cb-b30630fe3d4c",
   "metadata": {},
   "outputs": [
    {
     "data": {
      "image/png": "[encoded data removed]",
      "text/plain": [
       "<Figure size 640x480 with 1 Axes>"
      ]
     },
     "metadata": {},
     "output_type": "display_data"
    }
   ],
   "source": [
    "#plt.xticks(rotation=20)\n",
    "#sns.palplot(current_palette)\n",
    "current_palette = sns.color_palette(\"terrain_r\")\n",
    "sns.barplot(x=gdata['vehicle_maker'],y=gdata['customercnt'],data=gdata,palette = current_palette)\n",
    "plt.show()"
   ]
  },
  {
   "cell_type": "markdown",
   "id": "081810ff-2e23-4bb6-ab36-033adb445d39",
   "metadata": {},
   "source": [
    "#### Obervations:\n",
    "#### 1. Chevrolet is the most preferred Vehicle maker\n",
    "#### 2. Toyota,pontiac and Dodge are preferred by almost equal number of customers"
   ]
  },
  {
   "cell_type": "markdown",
   "id": "5311611b-bc65-44e3-80ef-9f4987661ae9",
   "metadata": {},
   "source": [
    "### Q5: Most preferred vehicle make in each state\n",
    "Graph /Table description :a list of states and the with the vehicle make most preferred there in\r\n",
    "the form of text or a neatly formatted table"
   ]
  },
  {
   "cell_type": "code",
   "execution_count": 118,
   "id": "decbbc4e-c89d-484b-8e0d-ed5757bc6ca0",
   "metadata": {},
   "outputs": [
    {
     "data": {
      "text/html": [
       "<div>\n",
       "<style scoped>\n",
       "    .dataframe tbody tr th:only-of-type {\n",
       "        vertical-align: middle;\n",
       "    }\n",
       "\n",
       "    .dataframe tbody tr th {\n",
       "        vertical-align: top;\n",
       "    }\n",
       "\n",
       "    .dataframe thead th {\n",
       "        text-align: right;\n",
       "    }\n",
       "</style>\n",
       "<table border=\"1\" class=\"dataframe\">\n",
       "  <thead>\n",
       "    <tr style=\"text-align: right;\">\n",
       "      <th></th>\n",
       "      <th>state</th>\n",
       "      <th>vehicle_maker</th>\n",
       "    </tr>\n",
       "  </thead>\n",
       "  <tbody>\n",
       "    <tr>\n",
       "      <th>0</th>\n",
       "      <td>Alabama</td>\n",
       "      <td>Dodge</td>\n",
       "    </tr>\n",
       "    <tr>\n",
       "      <th>1</th>\n",
       "      <td>Alaska</td>\n",
       "      <td>Chevrolet</td>\n",
       "    </tr>\n",
       "    <tr>\n",
       "      <th>2</th>\n",
       "      <td>Arizona</td>\n",
       "      <td>Pontiac</td>\n",
       "    </tr>\n",
       "    <tr>\n",
       "      <th>3</th>\n",
       "      <td>Arizona</td>\n",
       "      <td>Cadillac</td>\n",
       "    </tr>\n",
       "    <tr>\n",
       "      <th>4</th>\n",
       "      <td>Arkansas</td>\n",
       "      <td>Suzuki</td>\n",
       "    </tr>\n",
       "    <tr>\n",
       "      <th>...</th>\n",
       "      <td>...</td>\n",
       "      <td>...</td>\n",
       "    </tr>\n",
       "    <tr>\n",
       "      <th>138</th>\n",
       "      <td>Wisconsin</td>\n",
       "      <td>Nissan</td>\n",
       "    </tr>\n",
       "    <tr>\n",
       "      <th>139</th>\n",
       "      <td>Wisconsin</td>\n",
       "      <td>Cadillac</td>\n",
       "    </tr>\n",
       "    <tr>\n",
       "      <th>140</th>\n",
       "      <td>Wisconsin</td>\n",
       "      <td>Dodge</td>\n",
       "    </tr>\n",
       "    <tr>\n",
       "      <th>141</th>\n",
       "      <td>Wisconsin</td>\n",
       "      <td>Honda</td>\n",
       "    </tr>\n",
       "    <tr>\n",
       "      <th>142</th>\n",
       "      <td>Wyoming</td>\n",
       "      <td>Buick</td>\n",
       "    </tr>\n",
       "  </tbody>\n",
       "</table>\n",
       "<p>143 rows × 2 columns</p>\n",
       "</div>"
      ],
      "text/plain": [
       "         state vehicle_maker\n",
       "0      Alabama         Dodge\n",
       "1       Alaska     Chevrolet\n",
       "2      Arizona       Pontiac\n",
       "3      Arizona      Cadillac\n",
       "4     Arkansas        Suzuki\n",
       "..         ...           ...\n",
       "138  Wisconsin        Nissan\n",
       "139  Wisconsin      Cadillac\n",
       "140  Wisconsin         Dodge\n",
       "141  Wisconsin         Honda\n",
       "142    Wyoming         Buick\n",
       "\n",
       "[143 rows x 2 columns]"
      ]
     },
     "execution_count": 118,
     "metadata": {},
     "output_type": "execute_result"
    }
   ],
   "source": [
    "q5data= pd.read_csv(r\"C:\\Users\\prasa\\OneDrive\\Desktop\\GreatLearning\\SQL\\Project\\new+wheels_proj\\Data\\Q5data.csv\")\n",
    "q5data"
   ]
  },
  {
   "cell_type": "markdown",
   "id": "08849ca8-299d-453d-9220-7c701f3ddcc9",
   "metadata": {},
   "source": [
    "#### Obervations:\n",
    "#### 1.States like Arizona, Wisconsin have more than one most preferred vehicle maker\n",
    "#### 2. The distribution of top vehicle makers shows chevrolet is most preferred and also the customer preference is highly distributed in some states"
   ]
  },
  {
   "cell_type": "markdown",
   "id": "3c72f646-a8e4-4286-be28-f8d971083d6a",
   "metadata": {},
   "source": [
    "### Q6: Trend of purchases by Quarter\n",
    "Graph  :You can use a line chart with Quarter Number in the x-axis and No of Orders in the\r\n",
    "y-axis"
   ]
  },
  {
   "cell_type": "code",
   "execution_count": 119,
   "id": "a7fc919e-ebf6-48a5-8ca0-6d19326c8a86",
   "metadata": {},
   "outputs": [
    {
     "data": {
      "text/html": [
       "<div>\n",
       "<style scoped>\n",
       "    .dataframe tbody tr th:only-of-type {\n",
       "        vertical-align: middle;\n",
       "    }\n",
       "\n",
       "    .dataframe tbody tr th {\n",
       "        vertical-align: top;\n",
       "    }\n",
       "\n",
       "    .dataframe thead th {\n",
       "        text-align: right;\n",
       "    }\n",
       "</style>\n",
       "<table border=\"1\" class=\"dataframe\">\n",
       "  <thead>\n",
       "    <tr style=\"text-align: right;\">\n",
       "      <th></th>\n",
       "      <th>quarter_number</th>\n",
       "      <th>OrdersCount</th>\n",
       "    </tr>\n",
       "  </thead>\n",
       "  <tbody>\n",
       "    <tr>\n",
       "      <th>0</th>\n",
       "      <td>4</td>\n",
       "      <td>199</td>\n",
       "    </tr>\n",
       "    <tr>\n",
       "      <th>1</th>\n",
       "      <td>1</td>\n",
       "      <td>310</td>\n",
       "    </tr>\n",
       "    <tr>\n",
       "      <th>2</th>\n",
       "      <td>3</td>\n",
       "      <td>229</td>\n",
       "    </tr>\n",
       "    <tr>\n",
       "      <th>3</th>\n",
       "      <td>2</td>\n",
       "      <td>262</td>\n",
       "    </tr>\n",
       "  </tbody>\n",
       "</table>\n",
       "</div>"
      ],
      "text/plain": [
       "   quarter_number  OrdersCount\n",
       "0               4          199\n",
       "1               1          310\n",
       "2               3          229\n",
       "3               2          262"
      ]
     },
     "execution_count": 119,
     "metadata": {},
     "output_type": "execute_result"
    }
   ],
   "source": [
    "q6data= pd.read_csv(r\"C:\\Users\\prasa\\OneDrive\\Desktop\\GreatLearning\\SQL\\Project\\new+wheels_proj\\Data\\Q6data.csv\")\n",
    "q6data.head()"
   ]
  },
  {
   "cell_type": "code",
   "execution_count": 120,
   "id": "9922e3a6-3bff-4358-9783-cf344c0919c4",
   "metadata": {},
   "outputs": [
    {
     "data": {
      "image/png": "[encoded data removed]",
      "text/plain": [
       "<Figure size 640x480 with 1 Axes>"
      ]
     },
     "metadata": {},
     "output_type": "display_data"
    }
   ],
   "source": [
    "current_palette = sns.color_palette(\"terrain_r\")\n",
    "sns.lineplot(x=q6data['quarter_number'],y=q6data['OrdersCount'],data=q6data,palette = current_palette)\n",
    "plt.show()"
   ]
  },
  {
   "cell_type": "markdown",
   "id": "b241a9ad-87c2-4c76-b2ff-7fdca0ebe876",
   "metadata": {},
   "source": [
    "#### Obervations:\n",
    "#### 1.The orders count is steadiy declining quarter by quarter which is alamring\n"
   ]
  },
  {
   "cell_type": "markdown",
   "id": "0865a75f-abf1-407d-8184-27eed2743699",
   "metadata": {},
   "source": [
    "### Q7: Quarter on Quarter % change in Revenue\n",
    "Graph  :line chart with Quarter Number in the x-axis and revenue in the y-axis,\n",
    "and give the % change as text at each point, OR you can just have a neatly formatted table\n",
    "with the % changes, if that would look cleaner"
   ]
  },
  {
   "cell_type": "code",
   "execution_count": 122,
   "id": "564870b0-4899-4e88-838a-915485327455",
   "metadata": {},
   "outputs": [
    {
     "data": {
      "text/html": [
       "<div>\n",
       "<style scoped>\n",
       "    .dataframe tbody tr th:only-of-type {\n",
       "        vertical-align: middle;\n",
       "    }\n",
       "\n",
       "    .dataframe tbody tr th {\n",
       "        vertical-align: top;\n",
       "    }\n",
       "\n",
       "    .dataframe thead th {\n",
       "        text-align: right;\n",
       "    }\n",
       "</style>\n",
       "<table border=\"1\" class=\"dataframe\">\n",
       "  <thead>\n",
       "    <tr style=\"text-align: right;\">\n",
       "      <th></th>\n",
       "      <th>quarter_number</th>\n",
       "      <th>QoQ%</th>\n",
       "    </tr>\n",
       "  </thead>\n",
       "  <tbody>\n",
       "    <tr>\n",
       "      <th>0</th>\n",
       "      <td>1</td>\n",
       "      <td>0.000</td>\n",
       "    </tr>\n",
       "    <tr>\n",
       "      <th>1</th>\n",
       "      <td>2</td>\n",
       "      <td>-27.226</td>\n",
       "    </tr>\n",
       "    <tr>\n",
       "      <th>2</th>\n",
       "      <td>3</td>\n",
       "      <td>-32.315</td>\n",
       "    </tr>\n",
       "    <tr>\n",
       "      <th>3</th>\n",
       "      <td>4</td>\n",
       "      <td>-3.481</td>\n",
       "    </tr>\n",
       "  </tbody>\n",
       "</table>\n",
       "</div>"
      ],
      "text/plain": [
       "   quarter_number    QoQ%\n",
       "0               1   0.000\n",
       "1               2 -27.226\n",
       "2               3 -32.315\n",
       "3               4  -3.481"
      ]
     },
     "execution_count": 122,
     "metadata": {},
     "output_type": "execute_result"
    }
   ],
   "source": [
    "q7data= pd.read_csv(r\"C:\\Users\\prasa\\OneDrive\\Desktop\\GreatLearning\\SQL\\Project\\new+wheels_proj\\Data\\Q7data.csv\")\n",
    "q7data.head()"
   ]
  },
  {
   "cell_type": "markdown",
   "id": "8b6fb8c8-1ab1-44c8-97ba-b0aad8cce1ba",
   "metadata": {},
   "source": [
    "#### Obervations:\n",
    "#### 1. The Quarter on Quarter revenue is declining by huge margin for Q2 and Q3 \n",
    "#### 2: In Q4, The decline % was managed at 3% compared to previous quarters"
   ]
  },
  {
   "cell_type": "markdown",
   "id": "180bf3ad-6e36-43d1-ae39-83439c54069b",
   "metadata": {},
   "source": [
    "### Q8: Trend of Revenue and Orders by Quarter\n",
    "Graph  :a dual axis line chart with Quarter Number in the x-axis, and Revenue\r\n",
    "as the 1st y-axis and Orders as the 2nd y-axis in the same chart."
   ]
  },
  {
   "cell_type": "code",
   "execution_count": 123,
   "id": "31fb76b1-c8eb-4d2b-90b6-65df01bcb90f",
   "metadata": {},
   "outputs": [
    {
     "data": {
      "text/html": [
       "<div>\n",
       "<style scoped>\n",
       "    .dataframe tbody tr th:only-of-type {\n",
       "        vertical-align: middle;\n",
       "    }\n",
       "\n",
       "    .dataframe tbody tr th {\n",
       "        vertical-align: top;\n",
       "    }\n",
       "\n",
       "    .dataframe thead th {\n",
       "        text-align: right;\n",
       "    }\n",
       "</style>\n",
       "<table border=\"1\" class=\"dataframe\">\n",
       "  <thead>\n",
       "    <tr style=\"text-align: right;\">\n",
       "      <th></th>\n",
       "      <th>quarter_number</th>\n",
       "      <th>netRevenue</th>\n",
       "      <th>noofOrders</th>\n",
       "    </tr>\n",
       "  </thead>\n",
       "  <tbody>\n",
       "    <tr>\n",
       "      <th>0</th>\n",
       "      <td>1</td>\n",
       "      <td>18032549.900</td>\n",
       "      <td>310</td>\n",
       "    </tr>\n",
       "    <tr>\n",
       "      <th>1</th>\n",
       "      <td>2</td>\n",
       "      <td>13122995.756</td>\n",
       "      <td>262</td>\n",
       "    </tr>\n",
       "    <tr>\n",
       "      <th>2</th>\n",
       "      <td>3</td>\n",
       "      <td>8882298.845</td>\n",
       "      <td>229</td>\n",
       "    </tr>\n",
       "    <tr>\n",
       "      <th>3</th>\n",
       "      <td>4</td>\n",
       "      <td>8573149.281</td>\n",
       "      <td>199</td>\n",
       "    </tr>\n",
       "  </tbody>\n",
       "</table>\n",
       "</div>"
      ],
      "text/plain": [
       "   quarter_number   netRevenue  noofOrders\n",
       "0               1 18032549.900         310\n",
       "1               2 13122995.756         262\n",
       "2               3  8882298.845         229\n",
       "3               4  8573149.281         199"
      ]
     },
     "execution_count": 123,
     "metadata": {},
     "output_type": "execute_result"
    }
   ],
   "source": [
    "q8data= pd.read_csv(r\"C:\\Users\\prasa\\OneDrive\\Desktop\\GreatLearning\\SQL\\Project\\new+wheels_proj\\Data\\Q8data.csv\")\n",
    "q8data.head()"
   ]
  },
  {
   "cell_type": "markdown",
   "id": "61ec76a4-6c4d-4afb-b8fe-1274a83e8822",
   "metadata": {},
   "source": [
    "#### Obervations:\n",
    "#### 1. The Quarter on Quarter revenue is declining by huge margin for Q2 and Q3 \n",
    "#### 2:  The number or orders almost decreased by 30% by Q4 which is very alarming"
   ]
  },
  {
   "cell_type": "markdown",
   "id": "139e642d-8824-4dc8-bbe2-edde18ceb463",
   "metadata": {},
   "source": [
    "### Q9: Average discount offered by Credit Card type\n",
    "Graph/Table  :a bar chart with Card Types on the x-axis and average discount offered\n",
    "in the y-axis OR a well formatted table can convey the message"
   ]
  },
  {
   "cell_type": "code",
   "execution_count": 126,
   "id": "c6826923-284e-4639-960d-d1428e505a17",
   "metadata": {},
   "outputs": [
    {
     "data": {
      "text/html": [
       "<div>\n",
       "<style scoped>\n",
       "    .dataframe tbody tr th:only-of-type {\n",
       "        vertical-align: middle;\n",
       "    }\n",
       "\n",
       "    .dataframe tbody tr th {\n",
       "        vertical-align: top;\n",
       "    }\n",
       "\n",
       "    .dataframe thead th {\n",
       "        text-align: right;\n",
       "    }\n",
       "</style>\n",
       "<table border=\"1\" class=\"dataframe\">\n",
       "  <thead>\n",
       "    <tr style=\"text-align: right;\">\n",
       "      <th></th>\n",
       "      <th>credit_card_type</th>\n",
       "      <th>AvgDiscount</th>\n",
       "    </tr>\n",
       "  </thead>\n",
       "  <tbody>\n",
       "    <tr>\n",
       "      <th>0</th>\n",
       "      <td>laser</td>\n",
       "      <td>0.644</td>\n",
       "    </tr>\n",
       "    <tr>\n",
       "      <th>1</th>\n",
       "      <td>mastercard</td>\n",
       "      <td>0.629</td>\n",
       "    </tr>\n",
       "    <tr>\n",
       "      <th>2</th>\n",
       "      <td>maestro</td>\n",
       "      <td>0.624</td>\n",
       "    </tr>\n",
       "    <tr>\n",
       "      <th>3</th>\n",
       "      <td>visa-electron</td>\n",
       "      <td>0.623</td>\n",
       "    </tr>\n",
       "    <tr>\n",
       "      <th>4</th>\n",
       "      <td>china-unionpay</td>\n",
       "      <td>0.622</td>\n",
       "    </tr>\n",
       "    <tr>\n",
       "      <th>5</th>\n",
       "      <td>instapayment</td>\n",
       "      <td>0.621</td>\n",
       "    </tr>\n",
       "    <tr>\n",
       "      <th>6</th>\n",
       "      <td>americanexpress</td>\n",
       "      <td>0.616</td>\n",
       "    </tr>\n",
       "    <tr>\n",
       "      <th>7</th>\n",
       "      <td>diners-club-us-ca</td>\n",
       "      <td>0.615</td>\n",
       "    </tr>\n",
       "    <tr>\n",
       "      <th>8</th>\n",
       "      <td>diners-club-carte-blanche</td>\n",
       "      <td>0.614</td>\n",
       "    </tr>\n",
       "    <tr>\n",
       "      <th>9</th>\n",
       "      <td>switch</td>\n",
       "      <td>0.610</td>\n",
       "    </tr>\n",
       "    <tr>\n",
       "      <th>10</th>\n",
       "      <td>bankcard</td>\n",
       "      <td>0.610</td>\n",
       "    </tr>\n",
       "    <tr>\n",
       "      <th>11</th>\n",
       "      <td>jcb</td>\n",
       "      <td>0.607</td>\n",
       "    </tr>\n",
       "    <tr>\n",
       "      <th>12</th>\n",
       "      <td>visa</td>\n",
       "      <td>0.601</td>\n",
       "    </tr>\n",
       "    <tr>\n",
       "      <th>13</th>\n",
       "      <td>diners-club-enroute</td>\n",
       "      <td>0.600</td>\n",
       "    </tr>\n",
       "    <tr>\n",
       "      <th>14</th>\n",
       "      <td>solo</td>\n",
       "      <td>0.585</td>\n",
       "    </tr>\n",
       "    <tr>\n",
       "      <th>15</th>\n",
       "      <td>diners-club-international</td>\n",
       "      <td>0.584</td>\n",
       "    </tr>\n",
       "  </tbody>\n",
       "</table>\n",
       "</div>"
      ],
      "text/plain": [
       "             credit_card_type  AvgDiscount\n",
       "0                       laser        0.644\n",
       "1                  mastercard        0.629\n",
       "2                     maestro        0.624\n",
       "3               visa-electron        0.623\n",
       "4              china-unionpay        0.622\n",
       "5                instapayment        0.621\n",
       "6             americanexpress        0.616\n",
       "7           diners-club-us-ca        0.615\n",
       "8   diners-club-carte-blanche        0.614\n",
       "9                      switch        0.610\n",
       "10                   bankcard        0.610\n",
       "11                        jcb        0.607\n",
       "12                       visa        0.601\n",
       "13        diners-club-enroute        0.600\n",
       "14                       solo        0.585\n",
       "15  diners-club-international        0.584"
      ]
     },
     "execution_count": 126,
     "metadata": {},
     "output_type": "execute_result"
    }
   ],
   "source": [
    "q9data= pd.read_csv(r\"C:\\Users\\prasa\\OneDrive\\Desktop\\GreatLearning\\SQL\\Project\\new+wheels_proj\\Data\\Q9data.csv\")\n",
    "q9data"
   ]
  },
  {
   "cell_type": "markdown",
   "id": "4cc5da84-4ac5-402c-9a73-41c1ff2830c1",
   "metadata": {},
   "source": [
    "#### Obervations:\n",
    "#### 1. Highest avg discount for lasers credit card \n",
    "#### 2:  Lowest avg discount for diners-club-international credit card "
   ]
  },
  {
   "cell_type": "markdown",
   "id": "d1682047-ced1-44db-a6be-e52fadcfaa5a",
   "metadata": {},
   "source": [
    "### Q10: Time taken to ship orders by Quarter\n",
    "Graph/Table  :make a bar chart with Quarter Number on the x-axis and average time to ship\r\n",
    "in the y-axifile"
   ]
  },
  {
   "cell_type": "code",
   "execution_count": 128,
   "id": "9bda4d35-aa1c-47f1-b766-9f9b64f32e5a",
   "metadata": {},
   "outputs": [
    {
     "data": {
      "text/html": [
       "<div>\n",
       "<style scoped>\n",
       "    .dataframe tbody tr th:only-of-type {\n",
       "        vertical-align: middle;\n",
       "    }\n",
       "\n",
       "    .dataframe tbody tr th {\n",
       "        vertical-align: top;\n",
       "    }\n",
       "\n",
       "    .dataframe thead th {\n",
       "        text-align: right;\n",
       "    }\n",
       "</style>\n",
       "<table border=\"1\" class=\"dataframe\">\n",
       "  <thead>\n",
       "    <tr style=\"text-align: right;\">\n",
       "      <th></th>\n",
       "      <th>quarter_number</th>\n",
       "      <th>AvgNoofDaysToShip</th>\n",
       "    </tr>\n",
       "  </thead>\n",
       "  <tbody>\n",
       "    <tr>\n",
       "      <th>0</th>\n",
       "      <td>4</td>\n",
       "      <td>175</td>\n",
       "    </tr>\n",
       "    <tr>\n",
       "      <th>1</th>\n",
       "      <td>1</td>\n",
       "      <td>58</td>\n",
       "    </tr>\n",
       "    <tr>\n",
       "      <th>2</th>\n",
       "      <td>3</td>\n",
       "      <td>118</td>\n",
       "    </tr>\n",
       "    <tr>\n",
       "      <th>3</th>\n",
       "      <td>2</td>\n",
       "      <td>72</td>\n",
       "    </tr>\n",
       "  </tbody>\n",
       "</table>\n",
       "</div>"
      ],
      "text/plain": [
       "   quarter_number  AvgNoofDaysToShip\n",
       "0               4                175\n",
       "1               1                 58\n",
       "2               3                118\n",
       "3               2                 72"
      ]
     },
     "execution_count": 128,
     "metadata": {},
     "output_type": "execute_result"
    }
   ],
   "source": [
    "q10data= pd.read_csv(r\"C:\\Users\\prasa\\OneDrive\\Desktop\\GreatLearning\\SQL\\Project\\new+wheels_proj\\Data\\Q10data.csv\")\n",
    "q10data"
   ]
  },
  {
   "cell_type": "code",
   "execution_count": 129,
   "id": "56a350d9-1353-4afc-b8c2-a1920831343a",
   "metadata": {},
   "outputs": [
    {
     "data": {
      "image/png": "[encoded data removed]",
      "text/plain": [
       "<Figure size 640x480 with 1 Axes>"
      ]
     },
     "metadata": {},
     "output_type": "display_data"
    }
   ],
   "source": [
    "current_palette = sns.color_palette(\"terrain_r\")\n",
    "sns.barplot(x=q10data['quarter_number'],y=q10data['AvgNoofDaysToShip'],data=q10data,palette = current_palette)\n",
    "plt.show()"
   ]
  },
  {
   "cell_type": "markdown",
   "id": "3994c609-9c66-4553-a8dc-b1b9d7ee895e",
   "metadata": {},
   "source": [
    "#### Obervations:\n",
    "#### 1. Average no of days to ship increases to 175 days for Q4 which is very alarming"
   ]
  },
  {
   "cell_type": "markdown",
   "id": "1cbc2ac0-17a1-477c-90fd-b6be5df68b17",
   "metadata": {},
   "source": [
    "### Insights and Recommendations"
   ]
  },
  {
   "cell_type": "markdown",
   "id": "916a9a94-0275-4323-ad21-75dbe011806b",
   "metadata": {},
   "source": [
    "1. Customer satisfcation has decreased quarter by quarter\n",
    "2. Delay in shipping might be a reason for the decreased orders and revenue."
   ]
  },
  {
   "cell_type": "code",
   "execution_count": null,
   "id": "a1570e63-038e-4a54-9394-c0ca89f00d58",
   "metadata": {},
   "outputs": [],
   "source": []
  }
 ],
 "metadata": {
  "kernelspec": {
   "display_name": "Python 3 (ipykernel)",
   "language": "python",
   "name": "python3"
  },
  "language_info": {
   "codemirror_mode": {
    "name": "ipython",
    "version": 3
   },
   "file_extension": ".py",
   "mimetype": "text/x-python",
   "name": "python",
   "nbconvert_exporter": "python",
   "pygments_lexer": "ipython3",
   "version": "3.12.4"
  }
 },
 "nbformat": 4,
 "nbformat_minor": 5
}
